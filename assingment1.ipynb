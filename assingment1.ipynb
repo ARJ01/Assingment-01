{
 "cells": [
  {
   "cell_type": "markdown",
   "metadata": {},
   "source": [
    "2"
   ]
  },
  {
   "cell_type": "code",
   "execution_count": 5,
   "metadata": {},
   "outputs": [
    {
     "name": "stdout",
     "output_type": "stream",
     "text": [
      "6\n",
      "even no\n"
     ]
    }
   ],
   "source": [
    "x=int(input())\n",
    "if(x%2==0):\n",
    "     print(\"even no\")\n",
    "else:\n",
    "      print(\"odd no \")"
   ]
  },
  {
   "cell_type": "markdown",
   "metadata": {},
   "source": [
    "1"
   ]
  },
  {
   "cell_type": "code",
   "execution_count": 3,
   "metadata": {},
   "outputs": [
    {
     "name": "stdout",
     "output_type": "stream",
     "text": [
      "a=  5\n",
      "b=  3\n"
     ]
    }
   ],
   "source": [
    "a=3\n",
    "b=5\n",
    "\n",
    "a=a+b\n",
    "b=a-b\n",
    "a=a-b\n",
    "\n",
    "print(\"a= \",a)\n",
    "print(\"b= \", b)"
   ]
  },
  {
   "cell_type": "markdown",
   "metadata": {},
   "source": [
    "3\n"
   ]
  },
  {
   "cell_type": "code",
   "execution_count": 8,
   "metadata": {},
   "outputs": [
    {
     "name": "stdout",
     "output_type": "stream",
     "text": [
      "25\n",
      "5.0\n"
     ]
    }
   ],
   "source": [
    "num=int(input())\n",
    "print(num**0.5)"
   ]
  },
  {
   "cell_type": "code",
   "execution_count": 9,
   "metadata": {},
   "outputs": [
    {
     "name": "stdout",
     "output_type": "stream",
     "text": [
      "5\n",
      "order is:\n",
      "1\n",
      "2\n",
      "3\n",
      "4\n",
      "5\n",
      "the reverse is:\n",
      "5\n",
      "4\n",
      "3\n",
      "2\n",
      "1\n"
     ]
    }
   ],
   "source": [
    "n=int(input())\n",
    "print(\"order is:\")\n",
    "for i in range(1,n+1):\n",
    "    \n",
    "    print(i)\n",
    "print(\"the reverse is:\")    \n",
    "for i in range(n,0,-1):\n",
    "    \n",
    "    print(i)\n"
   ]
  },
  {
   "cell_type": "code",
   "execution_count": 15,
   "metadata": {},
   "outputs": [
    {
     "name": "stdout",
     "output_type": "stream",
     "text": [
      "enter the radius of the sphere:8\n",
      "2143.5733333333333\n"
     ]
    }
   ],
   "source": [
    "r=int(input(\"enter the radius of the sphere:\"))\n",
    "vol=(4/3*3.14)*r*r*r\n",
    "print(vol)\n"
   ]
  },
  {
   "cell_type": "code",
   "execution_count": 19,
   "metadata": {},
   "outputs": [
    {
     "name": "stdout",
     "output_type": "stream",
     "text": [
      "1 odd no. 2 even no. 3 odd no. 4 even no. 5 odd no. 6 even no. 7 odd no. 8 even no. 9 odd no. 10 even no. 11 odd no. 12 even no. 13 odd no. 14 even no. 15 odd no. 16 even no. 17 odd no. 18 even no. 19 odd no. 20 even no. 21 odd no. 22 even no. 23 odd no. 24 even no. 25 odd no. 26 even no. 27 odd no. 28 even no. 29 odd no. 30 even no. 31 odd no. 32 even no. 33 odd no. 34 even no. 35 odd no. 36 even no. 37 odd no. 38 even no. 39 odd no. 40 even no. 41 odd no. 42 even no. 43 odd no. 44 even no. 45 odd no. 46 even no. 47 odd no. 48 even no. 49 odd no. 50 even no. 51 odd no. 52 even no. 53 odd no. 54 even no. 55 odd no. 56 even no. 57 odd no. 58 even no. 59 odd no. 60 even no. 61 odd no. 62 even no. 63 odd no. 64 even no. 65 odd no. 66 even no. 67 odd no. 68 even no. 69 odd no. 70 even no. 71 odd no. 72 even no. 73 odd no. 74 even no. 75 odd no. 76 even no. 77 odd no. 78 even no. 79 odd no. 80 even no. 81 odd no. 82 even no. 83 odd no. 84 even no. 85 odd no. 86 even no. 87 odd no. 88 even no. 89 odd no. 90 even no. 91 odd no. 92 even no. 93 odd no. 94 even no. 95 odd no. 96 even no. 97 odd no. 98 even no. 99 odd no. 100 even no. "
     ]
    }
   ],
   "source": [
    "for i in range(1,101):\n",
    "    if(i%2==0):\n",
    "        print(i, \"even no.\", end=\" \")\n",
    "    else:\n",
    "        print(i, \"odd no.\", end=\" \")"
   ]
  },
  {
   "cell_type": "code",
   "execution_count": 20,
   "metadata": {},
   "outputs": [
    {
     "data": {
      "text/plain": [
       "3.0"
      ]
     },
     "execution_count": 20,
     "metadata": {},
     "output_type": "execute_result"
    }
   ],
   "source": [
    "import math\n",
    "math.sqrt(9)"
   ]
  },
  {
   "cell_type": "code",
   "execution_count": 63,
   "metadata": {},
   "outputs": [
    {
     "name": "stdout",
     "output_type": "stream",
     "text": [
      "Enter A 1\n",
      "Enter B -2\n",
      "Enter C 1\n",
      "imaginarry or eual roots exist\n",
      "Roots of equations are  : 1.0 1.0\n"
     ]
    }
   ],
   "source": [
    "\n",
    "import math                  \n",
    "a=float(input('Enter A '))\n",
    "b=float(input('Enter B '))\n",
    "c=float(input('Enter C '))\n",
    "d=(b**2)-4*a*c\n",
    "if(d==0):\n",
    "    print(\"imaginarry or eual roots exist\")\n",
    "else:\n",
    "    e1=((-b+math.sqrt(d))/(2*a)) \n",
    "    e2=((-b-math.sqrt(d))/(2*a)) \n",
    "print(\"Roots of equations are  :\",e1,e2)"
   ]
  },
  {
   "cell_type": "code",
   "execution_count": 21,
   "metadata": {},
   "outputs": [
    {
     "name": "stdout",
     "output_type": "stream",
     "text": [
      "input your no: 852741963\n",
      "9\n"
     ]
    }
   ],
   "source": [
    "a=(input(\"input your no: \"))\n",
    "\n",
    "print(len(a))\n"
   ]
  },
  {
   "cell_type": "code",
   "execution_count": 23,
   "metadata": {},
   "outputs": [
    {
     "name": "stdout",
     "output_type": "stream",
     "text": [
      "entr the nmbr 95\n",
      "False , not a Prime number\n"
     ]
    }
   ],
   "source": [
    "num=int(input(\"enter the number: \"))\n",
    "count=0\n",
    "for i in range(2,num//2+1,1):\n",
    "    if(num%i==0):\n",
    "        count=1\n",
    "        break\n",
    "if count==1:\n",
    "    print(\"False , not a Prime number\")\n",
    "else:\n",
    "    print(\"True, Its a Prime number\")"
   ]
  },
  {
   "cell_type": "markdown",
   "metadata": {},
   "source": [
    "Write a program that asks the user for a number n and prints the sum of the\n",
    "numbers 1 to n such that only multiples of three or five are considered in the sum "
   ]
  },
  {
   "cell_type": "code",
   "execution_count": 3,
   "metadata": {},
   "outputs": [
    {
     "name": "stdout",
     "output_type": "stream",
     "text": [
      "enter the number: 17\n",
      "Sum is:  60\n"
     ]
    }
   ],
   "source": [
    "n=int(input(\"enter the number: \"))\n",
    "sum=0\n",
    "for i in range(1,n+1):\n",
    "    if i%3==0 or i%5==0:\n",
    "        sum +=i\n",
    "print(\"Sum is: \", sum)    "
   ]
  },
  {
   "cell_type": "code",
   "execution_count": 7,
   "metadata": {},
   "outputs": [
    {
     "name": "stdout",
     "output_type": "stream",
     "text": [
      "Enter a Number : 8\n",
      "Enter + for Sum and * for product : +\n",
      "Answer is :  36\n"
     ]
    }
   ],
   "source": [
    "n=int(input(\"Enter a Number : \"))\n",
    "key=input(\"Enter + for Sum and * for product : \")\n",
    "if key== '+':\n",
    "    ans=0\n",
    "    for i in range(1,n+1):\n",
    "        ans+=i\n",
    "elif key== '*':\n",
    "    ans=1\n",
    "    for i in range(1,n+1):\n",
    "        ans*=i\n",
    "else:\n",
    "    print(\"Not Valid\")\n",
    "print(\"Answer is : \",ans)"
   ]
  },
  {
   "cell_type": "code",
   "execution_count": 8,
   "metadata": {},
   "outputs": [
    {
     "name": "stdout",
     "output_type": "stream",
     "text": [
      "Sum is:  233168\n"
     ]
    }
   ],
   "source": [
    "\n",
    "sum=0\n",
    "for i in range(1,1000):\n",
    "    if i%3==0 or i%5==0:\n",
    "        sum +=i\n",
    "print(\"Sum is: \", sum) "
   ]
  },
  {
   "cell_type": "code",
   "execution_count": 9,
   "metadata": {},
   "outputs": [
    {
     "name": "stdout",
     "output_type": "stream",
     "text": [
      "2002 2009 2016 2023 2037 2044 2051 2058 2072 2079 2086 2093 2107 2114 2121 2128 2142 2149 2156 2163 2177 2184 2191 2198 2212 2219 2226 2233 2247 2254 2261 2268 2282 2289 2296 2303 2317 2324 2331 2338 2352 2359 2366 2373 2387 2394 2401 2408 2422 2429 2436 2443 2457 2464 2471 2478 2492 2499 2506 2513 2527 2534 2541 2548 2562 2569 2576 2583 2597 2604 2611 2618 2632 2639 2646 2653 2667 2674 2681 2688 2702 2709 2716 2723 2737 2744 2751 2758 2772 2779 2786 2793 2807 2814 2821 2828 2842 2849 2856 2863 2877 2884 2891 2898 2912 2919 2926 2933 2947 2954 2961 2968 2982 2989 2996 3003 3017 3024 3031 3038 3052 3059 3066 3073 3087 3094 3101 3108 3122 3129 3136 3143 3157 3164 3171 3178 3192 3199 "
     ]
    }
   ],
   "source": [
    "\n",
    "for i in range(2000,3201):\n",
    "    if i%7==0 and i%5!=0:\n",
    "        print(i, end=\" \")"
   ]
  },
  {
   "cell_type": "code",
   "execution_count": 12,
   "metadata": {},
   "outputs": [
    {
     "name": "stdout",
     "output_type": "stream",
     "text": [
      "338350\n",
      "square of the sum 114480722500\n",
      "the difference is:  114480384150\n"
     ]
    }
   ],
   "source": [
    "n=100\n",
    "sum=0\n",
    "for i in range(1, 101):\n",
    "    j=i**2\n",
    "    sum+=j\n",
    "print(sum)    \n",
    "print(\"square of the sum\", sum**2)\n",
    "print(\"the difference is: \", sum**2-sum)\n"
   ]
  },
  {
   "cell_type": "code",
   "execution_count": 30,
   "metadata": {},
   "outputs": [
    {
     "name": "stdout",
     "output_type": "stream",
     "text": [
      "entr number:  8\n",
      "2\n",
      "3\n",
      "5\n",
      "7\n"
     ]
    }
   ],
   "source": [
    "n=int(input(\"entr number:  \"))\n",
    "for num in range(2,n):\n",
    "    for i in range(2,num):\n",
    "        if (num%i==0 and i!=num):\n",
    "             break\n",
    "    else:\n",
    "        print(num)"
   ]
  },
  {
   "cell_type": "code",
   "execution_count": 23,
   "metadata": {},
   "outputs": [
    {
     "name": "stdout",
     "output_type": "stream",
     "text": [
      "enter the number: 8\n",
      "1\n",
      "2\n",
      "6\n",
      "24\n",
      "120\n",
      "720\n",
      "5040\n",
      "40320\n"
     ]
    }
   ],
   "source": [
    "n=int(input(\"enter the number: \"))\n",
    "fact=1\n",
    "for i in range(1,n+1):\n",
    "    fact *=i\n",
    "    print(fact)\n"
   ]
  },
  {
   "cell_type": "code",
   "execution_count": 26,
   "metadata": {},
   "outputs": [
    {
     "name": "stdout",
     "output_type": "stream",
     "text": [
      "enter the number: 8\n",
      "1\n",
      "3\n",
      "6\n",
      "10\n",
      "15\n",
      "21\n",
      "28\n",
      "36\n"
     ]
    }
   ],
   "source": [
    "n=int(input(\"enter the number: \"))\n",
    "fib=0\n",
    "for i in range(1,n+1):\n",
    "    fib +=i\n",
    "    print(fib)\n"
   ]
  },
  {
   "cell_type": "code",
   "execution_count": 38,
   "metadata": {},
   "outputs": [
    {
     "name": "stdout",
     "output_type": "stream",
     "text": [
      "enter the number : 42\n",
      "factors of 42 are :\n",
      "1\n",
      "factors of 42 are :\n",
      "2\n",
      "factors of 42 are :\n",
      "3\n",
      "factors of 42 are :\n",
      "6\n",
      "factors of 42 are :\n",
      "7\n",
      "factors of 42 are :\n",
      "14\n",
      "factors of 42 are :\n",
      "21\n",
      "factors of 42 are :\n",
      "42\n"
     ]
    }
   ],
   "source": [
    "\n",
    "num=int(input(\"enter the number : \"))\n",
    "\n",
    "for i in range(1,num+1):\n",
    "    if num%i==0:\n",
    "        print(\"factor of\", num, \"are :\")\n",
    "        print(i)"
   ]
  },
  {
   "cell_type": "code",
   "execution_count": null,
   "metadata": {},
   "outputs": [],
   "source": []
  },
  {
   "cell_type": "markdown",
   "metadata": {},
   "source": [
    "WAP for patterns"
   ]
  },
  {
   "cell_type": "code",
   "execution_count": 39,
   "metadata": {},
   "outputs": [
    {
     "name": "stdout",
     "output_type": "stream",
     "text": [
      "* \n",
      "* * \n",
      "* * * \n",
      "* * * * \n",
      "* * * * * \n"
     ]
    }
   ],
   "source": [
    "for i in range(1,6):\n",
    "    for j in range(0,i):\n",
    "        print('*',end=' ')\n",
    "    print()"
   ]
  },
  {
   "cell_type": "code",
   "execution_count": 40,
   "metadata": {},
   "outputs": [
    {
     "name": "stdout",
     "output_type": "stream",
     "text": [
      "    * \n",
      "   * * \n",
      "  * * * \n",
      " * * * * \n"
     ]
    }
   ],
   "source": [
    "\n",
    "n=4\n",
    "for i in range(1,n+1):\n",
    "    print(' '*(n-i),'* '*i)"
   ]
  },
  {
   "cell_type": "code",
   "execution_count": 53,
   "metadata": {},
   "outputs": [
    {
     "name": "stdout",
     "output_type": "stream",
     "text": [
      "1 \n",
      "2 3 \n",
      "4 5 6 \n",
      "7 8 9 10 \n",
      "11 12 13 14 15 \n"
     ]
    }
   ],
   "source": [
    "def numpat(n):   \n",
    "    num = 1 \n",
    "    for i in range(0, n): \n",
    "        for j in range(0, i+1): \n",
    "            \n",
    "            print(num, end=\" \") \n",
    "            num = num+1\n",
    "        print()\n",
    "n = 5\n",
    "numpat(n)"
   ]
  },
  {
   "cell_type": "code",
   "execution_count": 44,
   "metadata": {},
   "outputs": [
    {
     "name": "stdout",
     "output_type": "stream",
     "text": [
      "* * * * * \n",
      "* * * * \n",
      "* * * \n",
      "* * \n",
      "* \n"
     ]
    }
   ],
   "source": [
    "\n",
    "for i in range(5,0,-1):\n",
    "        n=\"* \" * i\n",
    "        print(n)"
   ]
  },
  {
   "cell_type": "code",
   "execution_count": 55,
   "metadata": {},
   "outputs": [
    {
     "name": "stdout",
     "output_type": "stream",
     "text": [
      "1 \n",
      "2 2 \n",
      "3 3 3 \n",
      "4 4 4 4 \n",
      "5 5 5 5 5 \n"
     ]
    }
   ],
   "source": [
    "def number(n): \n",
    "    num=1\n",
    "    for i in range(0, n):  \n",
    "        for j in range(0, i+1):   \n",
    "            print(num, end=\" \") \n",
    "       \n",
    "        num = num + 1\n",
    "        print() \n",
    "        \n",
    "n = 5\n",
    "number(n)"
   ]
  },
  {
   "cell_type": "code",
   "execution_count": 58,
   "metadata": {},
   "outputs": [
    {
     "name": "stdout",
     "output_type": "stream",
     "text": [
      "A \n",
      "B C \n",
      "D E F \n",
      "G H I J \n",
      "K L M N O \n"
     ]
    }
   ],
   "source": [
    "def numpat(n):   \n",
    "    num = 65\n",
    "    for i in range(0, n): \n",
    "        for j in range(0, i+1): \n",
    "            ch =chr(num)\n",
    "            print(ch ,end=\" \") \n",
    "            num = num+1\n",
    "        print()\n",
    "n = 5\n",
    "numpat(n)"
   ]
  },
  {
   "cell_type": "code",
   "execution_count": null,
   "metadata": {},
   "outputs": [],
   "source": []
  }
 ],
 "metadata": {
  "kernelspec": {
   "display_name": "Python 3",
   "language": "python",
   "name": "python3"
  },
  "language_info": {
   "codemirror_mode": {
    "name": "ipython",
    "version": 3
   },
   "file_extension": ".py",
   "mimetype": "text/x-python",
   "name": "python",
   "nbconvert_exporter": "python",
   "pygments_lexer": "ipython3",
   "version": "3.7.3"
  }
 },
 "nbformat": 4,
 "nbformat_minor": 2
}
